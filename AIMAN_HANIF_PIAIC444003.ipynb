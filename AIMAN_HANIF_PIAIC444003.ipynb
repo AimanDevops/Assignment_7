{
  "nbformat": 4,
  "nbformat_minor": 0,
  "metadata": {
    "colab": {
      "provenance": [],
      "include_colab_link": true
    },
    "kernelspec": {
      "name": "python3",
      "display_name": "Python 3"
    },
    "language_info": {
      "name": "python"
    }
  },
  "cells": [
    {
      "cell_type": "markdown",
      "metadata": {
        "id": "view-in-github",
        "colab_type": "text"
      },
      "source": [
        "<a href=\"https://colab.research.google.com/github/AimanDevops/Assignment_7/blob/main/AIMAN_HANIF_PIAIC444003.ipynb\" target=\"_parent\"><img src=\"https://colab.research.google.com/assets/colab-badge.svg\" alt=\"Open In Colab\"/></a>"
      ]
    },
    {
      "cell_type": "code",
      "execution_count": null,
      "metadata": {
        "colab": {
          "base_uri": "https://localhost:8080/"
        },
        "id": "n9M3nwQgZGtJ",
        "outputId": "6316c3f5-eed5-4686-f884-4a6d894d56a8"
      },
      "outputs": [
        {
          "output_type": "stream",
          "name": "stdout",
          "text": [
            "Select operation:\n",
            "1. Add\n",
            "2. Subtract\n",
            "3. Multiply\n",
            "4. Divide\n",
            "5. Modulus\n",
            "6. Power\n",
            "Enter choice (1/2/3/4/5/6): 1\n",
            "Enter first number: 3\n",
            "Enter second number: 44\n",
            "Result: 3.0 + 44.0 = 47.0\n"
          ]
        }
      ],
      "source": [
        "# Calculator functions\n",
        "def add(a, b):\n",
        "    return a + b\n",
        "\n",
        "def subtract(a, b):\n",
        "    return a - b\n",
        "\n",
        "def multiply(a, b):\n",
        "    return a * b\n",
        "\n",
        "def divide(a, b):\n",
        "    if b == 0:\n",
        "        return \"Error! Division by zero.\"\n",
        "    return a / b\n",
        "\n",
        "def modulus(a, b):\n",
        "    return a % b\n",
        "\n",
        "def power(a, b):\n",
        "    return a ** b\n",
        "\n",
        "def calculator():\n",
        "    print(\"Select operation:\")\n",
        "    print(\"1. Add\")\n",
        "    print(\"2. Subtract\")\n",
        "    print(\"3. Multiply\")\n",
        "    print(\"4. Divide\")\n",
        "    print(\"5. Modulus\")\n",
        "    print(\"6. Power\")\n",
        "\n",
        "    # User input for operation\n",
        "    choice = input(\"Enter choice (1/2/3/4/5/6): \")\n",
        "\n",
        "    # Validate the operation choice\n",
        "    if choice not in ['1', '2', '3', '4', '5', '6']:\n",
        "        print(\"Invalid choice\")\n",
        "        return\n",
        "\n",
        "    # Taking user input for numbers\n",
        "    try:\n",
        "        num1 = float(input(\"Enter first number: \"))\n",
        "        num2 = float(input(\"Enter second number: \"))\n",
        "    except ValueError:\n",
        "        print(\"Invalid input. Please enter numeric values.\")\n",
        "        return\n",
        "\n",
        "    # Perform the chosen operation\n",
        "    if choice == '1':\n",
        "        print(f\"Result: {num1} + {num2} = {add(num1, num2)}\")\n",
        "    elif choice == '2':\n",
        "        print(f\"Result: {num1} - {num2} = {subtract(num1, num2)}\")\n",
        "    elif choice == '3':\n",
        "        print(f\"Result: {num1} * {num2} = {multiply(num1, num2)}\")\n",
        "    elif choice == '4':\n",
        "        print(f\"Result: {num1} / {num2} = {divide(num1, num2)}\")\n",
        "    elif choice == '5':\n",
        "        print(f\"Result: {num1} % {num2} = {modulus(num1, num2)}\")\n",
        "    elif choice == '6':\n",
        "        print(f\"Result: {num1} ^ {num2} = {power(num1, num2)}\")\n",
        "\n",
        "# Run the calculator\n",
        "calculator()\n"
      ]
    }
  ]
}